{
 "cells": [
  {
   "cell_type": "code",
   "execution_count": 17,
   "metadata": {},
   "outputs": [],
   "source": [
    "import datetime\n",
    "import pandas as pd\n",
    "import numpy as np\n",
    "import seaborn as sns\n",
    "import matplotlib.pyplot as plt\n",
    "import pathlib"
   ]
  },
  {
   "cell_type": "markdown",
   "metadata": {},
   "source": [
    "# Section 1: Exploritory Data Analysis\n",
    "#### In this Section we will load and examine our datasets for analysis."
   ]
  },
  {
   "cell_type": "markdown",
   "metadata": {},
   "source": [
    "# Examining Our Files:\n",
    "### In order to perform EDA, we need to load our datasets into the notebook. \n",
    "###### Once we have our files, we need to examine them and ask the following questions:\n",
    "   * How much data do we have and how has that grown?\n",
    "   * How is the data structured, formatted, and organized?\n",
    "   * What fields do we have to analyze in each record?"
   ]
  },
  {
   "cell_type": "markdown",
   "metadata": {},
   "source": [
    "##### We will load our data and use the methods provided below to create dataframes to assist in EDA"
   ]
  },
  {
   "cell_type": "code",
   "execution_count": 30,
   "metadata": {},
   "outputs": [],
   "source": [
    "from pathlib import Path\n",
    "import bz2\n",
    "import os\n",
    "import csv"
   ]
  },
  {
   "cell_type": "code",
   "execution_count": 37,
   "metadata": {},
   "outputs": [],
   "source": [
    "def list_files(directory):\n",
    "    \"\"\"\n",
    "    Return a list of pathlib.Path objects for the files in the directory.\n",
    "    \n",
    "    directory: a string describing the directory to list \n",
    "        for example 'data/'\n",
    "    \"\"\"\n",
    "    file_list = []\n",
    "    p = Path(directory)\n",
    "    \n",
    "    for child in p.iterdir():\n",
    "        file_list.append(child)\n",
    "       \n",
    "    return file_list[1:]\n",
    "        \n",
    "    \n",
    "def get_file_size(file_name):\n",
    "    \"\"\"\n",
    "    Return file size for a given filename.\n",
    "    \"\"\" \n",
    "    \n",
    "    p = Path(file_name)\n",
    "    return p.stat().st_size\n",
    "    \n",
    "    \n",
    "\n",
    "def get_linecount_csv(file_name):\n",
    "    \"\"\"\n",
    "    Returns the number of lines in csv file.  \n",
    "    \"\"\" \n",
    "    counter = 0\n",
    "    file = open(file_name)\n",
    "    reader = csv.reader(file)\n",
    "    lst = list((reader))\n",
    "    return len(lst)\n",
    "    "
   ]
  },
  {
   "cell_type": "markdown",
   "metadata": {},
   "source": [
    "### To guide our interpretation of incoming data, we will create a dataFrame that shows us the name, size, and linecount of each updated file "
   ]
  },
  {
   "cell_type": "code",
   "execution_count": 38,
   "metadata": {},
   "outputs": [
    {
     "data": {
      "text/html": [
       "<div>\n",
       "<style scoped>\n",
       "    .dataframe tbody tr th:only-of-type {\n",
       "        vertical-align: middle;\n",
       "    }\n",
       "\n",
       "    .dataframe tbody tr th {\n",
       "        vertical-align: top;\n",
       "    }\n",
       "\n",
       "    .dataframe thead th {\n",
       "        text-align: right;\n",
       "    }\n",
       "</style>\n",
       "<table border=\"1\" class=\"dataframe\">\n",
       "  <thead>\n",
       "    <tr style=\"text-align: right;\">\n",
       "      <th></th>\n",
       "      <th>name</th>\n",
       "      <th>size</th>\n",
       "      <th>linecount</th>\n",
       "    </tr>\n",
       "  </thead>\n",
       "  <tbody>\n",
       "    <tr>\n",
       "      <th>0</th>\n",
       "      <td>data/05-05-2020.csv</td>\n",
       "      <td>9348</td>\n",
       "      <td>59</td>\n",
       "    </tr>\n",
       "    <tr>\n",
       "      <th>2</th>\n",
       "      <td>data/time_series_covid19_deaths_US.csv</td>\n",
       "      <td>1039226</td>\n",
       "      <td>3262</td>\n",
       "    </tr>\n",
       "    <tr>\n",
       "      <th>1</th>\n",
       "      <td>data/time_series_covid19_confirmed_US.csv</td>\n",
       "      <td>1093856</td>\n",
       "      <td>3262</td>\n",
       "    </tr>\n",
       "  </tbody>\n",
       "</table>\n",
       "</div>"
      ],
      "text/plain": [
       "                                        name     size  linecount\n",
       "0                        data/05-05-2020.csv     9348         59\n",
       "2     data/time_series_covid19_deaths_US.csv  1039226       3262\n",
       "1  data/time_series_covid19_confirmed_US.csv  1093856       3262"
      ]
     },
     "execution_count": 38,
     "metadata": {},
     "output_type": "execute_result"
    }
   ],
   "source": [
    "info = []\n",
    "for f in list_files(\"data/\"):\n",
    "    name = str(f)\n",
    "    \n",
    "    if name[-3:] == \"csv\": \n",
    "        \n",
    "        size = get_file_size(f)\n",
    "        linecount = get_linecount_csv(f)\n",
    "        info.append({\"name\": name, \"size\": size, \"linecount\": linecount})\n",
    "\n",
    "file_info = pd.DataFrame(info).sort_values(\"size\")\n",
    "file_info"
   ]
  },
  {
   "cell_type": "markdown",
   "metadata": {},
   "source": [
    "### Reading in the files:\n",
    "##### Now that we have an idea of the new data, we will load it in for further EDA\n",
    "\n",
    "### **Make sure to update date on US_daily_report to yesterdays date**\n",
    "##### If you don't csv will not read"
   ]
  },
  {
   "cell_type": "code",
   "execution_count": 40,
   "metadata": {},
   "outputs": [],
   "source": [
    "US_daily_report = pd.read_csv(\"data/05-05-2020.csv\")\n",
    "US_confirmed_deaths = pd.read_csv(\"data/time_series_covid19_deaths_US.csv\")\n",
    "US_confirmed_cases = pd.read_csv(\"data/time_series_covid19_confirmed_US.csv\")\n"
   ]
  },
  {
   "cell_type": "markdown",
   "metadata": {},
   "source": [
    "# Identifying Issues with our Data\n",
    "### For each data set, we will load data and identify issues in our data that will be used for cleaning"
   ]
  },
  {
   "cell_type": "code",
   "execution_count": null,
   "metadata": {},
   "outputs": [],
   "source": []
  },
  {
   "cell_type": "markdown",
   "metadata": {},
   "source": [
    "## Cleaning Data:\n",
    "#### We will use the issues we identified with with our data to clean it\n"
   ]
  },
  {
   "cell_type": "code",
   "execution_count": null,
   "metadata": {},
   "outputs": [],
   "source": []
  },
  {
   "cell_type": "markdown",
   "metadata": {},
   "source": [
    "## Joining Tables: (transformation for EDA proccess)\n",
    "#### To form a predictive analysis on our data, we will need to manipulate the tables to provide usefull information\n",
    "###### Tables we are joining and why:\n",
    "   * Table One\n",
    "   * Table Two\n",
    "   * Etc...\n",
    "   "
   ]
  },
  {
   "cell_type": "code",
   "execution_count": null,
   "metadata": {},
   "outputs": [],
   "source": []
  },
  {
   "cell_type": "markdown",
   "metadata": {},
   "source": [
    "## EDA Visualization\n",
    "\n",
    "#### In this section we will finally make observations about our transformed data and form visualizations to show said observations.\n",
    "\n",
    "#### ******THIS SECTION SHOULD BE LONG --- SERVES TO VISUALIZE SOME OF THE FEATURES WE USE FOR OUR MODEL"
   ]
  },
  {
   "cell_type": "code",
   "execution_count": null,
   "metadata": {},
   "outputs": [],
   "source": []
  },
  {
   "cell_type": "markdown",
   "metadata": {},
   "source": [
    "## Training Validation Split\n",
    "##### Split Data for model selection"
   ]
  },
  {
   "cell_type": "code",
   "execution_count": null,
   "metadata": {},
   "outputs": [],
   "source": []
  },
  {
   "cell_type": "markdown",
   "metadata": {},
   "source": [
    "# Model Selection: \n",
    "### What models are we going to use & Why?"
   ]
  },
  {
   "cell_type": "code",
   "execution_count": null,
   "metadata": {},
   "outputs": [],
   "source": []
  },
  {
   "cell_type": "code",
   "execution_count": null,
   "metadata": {},
   "outputs": [],
   "source": []
  }
 ],
 "metadata": {
  "kernelspec": {
   "display_name": "Python 3",
   "language": "python",
   "name": "python3"
  },
  "language_info": {
   "codemirror_mode": {
    "name": "ipython",
    "version": 3
   },
   "file_extension": ".py",
   "mimetype": "text/x-python",
   "name": "python",
   "nbconvert_exporter": "python",
   "pygments_lexer": "ipython3",
   "version": "3.7.6"
  }
 },
 "nbformat": 4,
 "nbformat_minor": 4
}
