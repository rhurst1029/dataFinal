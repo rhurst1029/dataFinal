{
 "cells": [
  {
   "cell_type": "code",
   "execution_count": 50,
   "metadata": {},
   "outputs": [],
   "source": [
    "## Main notebook for python cells, checking changes from sublime"
   ]
  },
  {
   "cell_type": "code",
   "execution_count": 51,
   "metadata": {},
   "outputs": [],
   "source": [
    "import datetime\n",
    "import pandas"
   ]
  },
  {
   "cell_type": "markdown",
   "metadata": {},
   "source": [
    "### Delete the old csv files from data directory\n"
   ]
  },
  {
   "cell_type": "code",
   "execution_count": 75,
   "metadata": {},
   "outputs": [
    {
     "name": "stdout",
     "output_type": "stream",
     "text": [
      "Daily report paths not updated for todays data, update \"path_to_daily_report\" and remove from repo\n",
      "\n",
      "Updated URL: ~/Desktop/dataFinal/data/05-04-2020.csv\n"
     ]
    },
    {
     "data": {
      "text/plain": [
       "'3'"
      ]
     },
     "execution_count": 75,
     "metadata": {},
     "output_type": "execute_result"
    }
   ],
   "source": [
    "##Path to daily report to be deleted\n",
    "path_to_daily_report = '~/Desktop/dataFinal/data/05-03-2020.csv'\n",
    "\n",
    "daily_report_day = path_to_daily_report[-10]\n",
    "yesterday = str(int(str(datetime.date.today())[-1]) -2)\n",
    "\n",
    "#If daily report file is from yesterday, data has not been updated today: remove yesterday's data and update HTTPS\n",
    "error_updated = 'Daily report paths already updated, no need to remove'\n",
    "error_not_updated = 'Daily report paths not updated for todays data, update \"path_to_daily_report\" and remove from repo'\n",
    "error_code = \"\";\n",
    "if (daily_report_day != yesterday):\n",
    "    error_code = error_updated\n",
    "    print(error_updated)\n",
    "else:\n",
    "    error_code = error_not_updated;\n",
    "    print(error_not_updated)\n",
    "    path_to_daily_report_updated = path_to_daily_report.replace(path_to_daily_report[-10], str(int(path_to_daily_report[-10]) +1))\n",
    "    print(\"\")\n",
    "    print(\"Updated URL: \" + path_to_daily_report_updated)\n",
    "\n"
   ]
  },
  {
   "cell_type": "code",
   "execution_count": 44,
   "metadata": {},
   "outputs": [
    {
     "name": "stdout",
     "output_type": "stream",
     "text": [
      "Daily report paths already updated, no need to remove\n"
     ]
    }
   ],
   "source": [
    "if (error_code == error_updated):\n",
    "    print(error_updated)\n",
    "else:\n",
    "    !rm -rf ~/Desktop/dataFinal/data/05-04-2020.csv\n",
    "    !rm -rf ~/Desktop/dataFinal/data/time_series_covid19_confirmed_US.csv\n",
    "    !rm -rf ~/Desktop/dataFinal/data/time_series_covid19_deaths_US.csv\n",
    "        "
   ]
  },
  {
   "cell_type": "markdown",
   "metadata": {},
   "source": [
    "# Load Most Recent Data into 'data' repository with wget\n",
    "#### We are using wget to load the most recent data so our model will run on larger datasets and produce more accurate predictions"
   ]
  },
  {
   "cell_type": "code",
   "execution_count": 35,
   "metadata": {},
   "outputs": [
    {
     "data": {
      "text/plain": [
       "'4'"
      ]
     },
     "execution_count": 35,
     "metadata": {},
     "output_type": "execute_result"
    }
   ],
   "source": [
    "todays_report_https = 'https://github.com/CSSEGISandData/COVID-19/blob/master/csse_covid_19_data/csse_covid_19_daily_reports_us/05-04-2020.csv'\n",
    "\n",
    "todays_report_https[-10]\n",
    "today = str(datetime.date.today())[-1]\n",
    "if (daily_report_https != today):\n",
    "    print('Update date for daily_report https')\n"
   ]
  },
  {
   "cell_type": "code",
   "execution_count": 22,
   "metadata": {},
   "outputs": [],
   "source": [
    "!wget https://github.com/CSSEGISandData/COVID-19/blob/master/csse_covid_19_data/csse_covid_19_time_series/time_series_covid19_confirmed_US.csv -P ~/Desktop/dataFinal/data\n",
    "    \n",
    "!wget https://github.com/CSSEGISandData/COVID-19/blob/master/csse_covid_19_data/csse_covid_19_time_series/time_series_covid19_deaths_US.csv -P ~/Desktop/dataFinal/data\n",
    "    \n",
    "!wget https://github.com/CSSEGISandData/COVID-19/blob/master/csse_covid_19_data/csse_covid_19_daily_reports_us/05-04-2020.csv -P ~/Desktop/dataFinal/data\n",
    "   "
   ]
  },
  {
   "cell_type": "code",
   "execution_count": null,
   "metadata": {},
   "outputs": [],
   "source": []
  }
 ],
 "metadata": {
  "kernelspec": {
   "display_name": "Python 3",
   "language": "python",
   "name": "python3"
  },
  "language_info": {
   "codemirror_mode": {
    "name": "ipython",
    "version": 3
   },
   "file_extension": ".py",
   "mimetype": "text/x-python",
   "name": "python",
   "nbconvert_exporter": "python",
   "pygments_lexer": "ipython3",
   "version": "3.7.6"
  }
 },
 "nbformat": 4,
 "nbformat_minor": 4
}
