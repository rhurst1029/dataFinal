{
 "cells": [
  {
   "cell_type": "code",
   "execution_count": 2,
   "metadata": {},
   "outputs": [],
   "source": [
    "import datetime\n",
    "import pandas as pd\n",
    "import numpy as np\n",
    "import pathlib"
   ]
  },
  {
   "cell_type": "markdown",
   "metadata": {},
   "source": [
    "## Updating Our Data:\n",
    "We will first start by checking whether our data has been updated.\n",
    "We are updating data daily so we can track \n",
    "the accuracy of our model, along with potential changes\n",
    "we will need to make in terms of identifying features and general EDA."
   ]
  },
  {
   "cell_type": "code",
   "execution_count": 3,
   "metadata": {},
   "outputs": [
    {
     "name": "stdout",
     "output_type": "stream",
     "text": [
      "Daily report paths already updated, no need to remove\n"
     ]
    }
   ],
   "source": [
    "##Path to daily report to be deleted\n",
    "path_to_daily_report = '~/Desktop/dataFinal/data/05-05-2020.csv'\n",
    "\n",
    "daily_report_day = path_to_daily_report[-10]\n",
    "yesterday = str(int(str(datetime.date.today())[-1]) -2)\n",
    "\n",
    "#If daily report file is from yesterday, data has not been updated today: remove yesterday's data and update HTTPS\n",
    "error_updated = 'Daily report paths already updated, no need to remove'\n",
    "error_not_updated = 'Daily report paths not updated for todays data, update \"path_to_daily_report\" and remove from repo'\n",
    "error_code = \"\";\n",
    "if (daily_report_day != yesterday):\n",
    "    error_code = error_updated\n",
    "    print(error_updated)\n",
    "else:\n",
    "    error_code = error_not_updated;\n",
    "    print(error_not_updated)\n",
    "    path_to_daily_report_updated = path_to_daily_report.replace(path_to_daily_report[-10], str(int(path_to_daily_report[-10]) +1))\n",
    "    print(\"\")\n",
    "    print(\"Updated URL: \" + path_to_daily_report_updated)\n"
   ]
  },
  {
   "cell_type": "code",
   "execution_count": 4,
   "metadata": {},
   "outputs": [
    {
     "name": "stdout",
     "output_type": "stream",
     "text": [
      "Daily report paths already updated, no need to remove\n"
     ]
    }
   ],
   "source": [
    "if (error_code == error_updated):\n",
    "    print(error_updated)\n",
    "else:\n",
    "    !rm -rf ~/Desktop/dataFinal/data/05-04-2020.csv\n",
    "    !rm -rf ~/Desktop/dataFinal/data/time_series_covid19_confirmed_US.csv\n",
    "    !rm -rf ~/Desktop/dataFinal/data/time_series_covid19_deaths_US.csv"
   ]
  },
  {
   "cell_type": "markdown",
   "metadata": {},
   "source": [
    "# Load Most Recent Data into 'data/' repository with wget\n",
    "#### We are using wget to load the most recent data so our model will run on larger datasets and produce more accurate predictions"
   ]
  },
  {
   "cell_type": "code",
   "execution_count": 6,
   "metadata": {},
   "outputs": [
    {
     "name": "stdout",
     "output_type": "stream",
     "text": [
      "Updated, please make sure todays_report_https URL is updated in loading cell\n"
     ]
    }
   ],
   "source": [
    "todays_report_https = 'https://raw.githubusercontent.com/CSSEGISandData/COVID-19/master/csse_covid_19_data/csse_covid_19_daily_reports_us/05-05-2020.csv'\n",
    "\n",
    "todays_report_https[-10]\n",
    "today = str(int(str(datetime.date.today())[-1])-1)\n",
    "if (todays_report_https[-10] != today):\n",
    "    print('Update date for daily_report https')\n",
    "else:\n",
    "    print('Updated, please make sure todays_report_https URL is updated in loading cell')\n"
   ]
  },
  {
   "cell_type": "code",
   "execution_count": 7,
   "metadata": {},
   "outputs": [
    {
     "name": "stdout",
     "output_type": "stream",
     "text": [
      "--2020-05-06 18:51:17--  https://raw.githubusercontent.com/CSSEGISandData/COVID-19/master/csse_covid_19_data/csse_covid_19_time_series/time_series_covid19_confirmed_US.csv\n",
      "Resolving raw.githubusercontent.com (raw.githubusercontent.com)... 151.101.188.133\n",
      "Connecting to raw.githubusercontent.com (raw.githubusercontent.com)|151.101.188.133|:443... connected.\n",
      "HTTP request sent, awaiting response... 200 OK\n",
      "Length: 1093856 (1.0M) [text/plain]\n",
      "Saving to: ‘/Users/ryanhurst/Desktop/dataFinal/data/time_series_covid19_confirmed_US.csv’\n",
      "\n",
      "time_series_covid19 100%[===================>]   1.04M  3.49MB/s    in 0.3s    \n",
      "\n",
      "2020-05-06 18:51:17 (3.49 MB/s) - ‘/Users/ryanhurst/Desktop/dataFinal/data/time_series_covid19_confirmed_US.csv’ saved [1093856/1093856]\n",
      "\n",
      "--2020-05-06 18:51:17--  https://raw.githubusercontent.com/CSSEGISandData/COVID-19/master/csse_covid_19_data/csse_covid_19_time_series/time_series_covid19_deaths_US.csv\n",
      "Resolving raw.githubusercontent.com (raw.githubusercontent.com)... 151.101.188.133\n",
      "Connecting to raw.githubusercontent.com (raw.githubusercontent.com)|151.101.188.133|:443... connected.\n",
      "HTTP request sent, awaiting response... 200 OK\n",
      "Length: 1039226 (1015K) [text/plain]\n",
      "Saving to: ‘/Users/ryanhurst/Desktop/dataFinal/data/time_series_covid19_deaths_US.csv’\n",
      "\n",
      "time_series_covid19 100%[===================>]   1015K  3.51MB/s    in 0.3s    \n",
      "\n",
      "2020-05-06 18:51:18 (3.51 MB/s) - ‘/Users/ryanhurst/Desktop/dataFinal/data/time_series_covid19_deaths_US.csv’ saved [1039226/1039226]\n",
      "\n",
      "--2020-05-06 18:51:18--  https://raw.githubusercontent.com/CSSEGISandData/COVID-19/master/csse_covid_19_data/csse_covid_19_daily_reports_us/05-05-2020.csv\n",
      "Resolving raw.githubusercontent.com (raw.githubusercontent.com)... 151.101.188.133\n",
      "Connecting to raw.githubusercontent.com (raw.githubusercontent.com)|151.101.188.133|:443... connected.\n",
      "HTTP request sent, awaiting response... 200 OK\n",
      "Length: 9348 (9.1K) [text/plain]\n",
      "Saving to: ‘/Users/ryanhurst/Desktop/dataFinal/data/05-05-2020.csv’\n",
      "\n",
      "05-05-2020.csv      100%[===================>]   9.13K  --.-KB/s    in 0.001s  \n",
      "\n",
      "2020-05-06 18:51:18 (14.9 MB/s) - ‘/Users/ryanhurst/Desktop/dataFinal/data/05-05-2020.csv’ saved [9348/9348]\n",
      "\n"
     ]
    }
   ],
   "source": [
    "!wget https://raw.githubusercontent.com/CSSEGISandData/COVID-19/master/csse_covid_19_data/csse_covid_19_time_series/time_series_covid19_confirmed_US.csv -P ~/Desktop/dataFinal/data\n",
    "    \n",
    "!wget https://raw.githubusercontent.com/CSSEGISandData/COVID-19/master/csse_covid_19_data/csse_covid_19_time_series/time_series_covid19_deaths_US.csv -P ~/Desktop/dataFinal/data\n",
    "    \n",
    "!wget https://raw.githubusercontent.com/CSSEGISandData/COVID-19/master/csse_covid_19_data/csse_covid_19_daily_reports_us/05-05-2020.csv -P ~/Desktop/dataFinal/data\n",
    "   "
   ]
  },
  {
   "cell_type": "code",
   "execution_count": null,
   "metadata": {},
   "outputs": [],
   "source": []
  }
 ],
 "metadata": {
  "kernelspec": {
   "display_name": "Python 3",
   "language": "python",
   "name": "python3"
  },
  "language_info": {
   "codemirror_mode": {
    "name": "ipython",
    "version": 3
   },
   "file_extension": ".py",
   "mimetype": "text/x-python",
   "name": "python",
   "nbconvert_exporter": "python",
   "pygments_lexer": "ipython3",
   "version": "3.7.6"
  }
 },
 "nbformat": 4,
 "nbformat_minor": 4
}
